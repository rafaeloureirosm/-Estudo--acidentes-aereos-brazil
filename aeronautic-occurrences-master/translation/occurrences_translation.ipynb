{
 "cells": [
  {
   "cell_type": "code",
   "execution_count": 2,
   "metadata": {
    "collapsed": false
   },
   "outputs": [
    {
     "data": {
      "text/plain": [
       "'\\nThis dataset was translated to English in order to help you to create analysis about its data. \\nBe free to share and modify this script to achieve new goals.\\n   \\nMy e-mail: paulovasconcellos@iestampa.com.br\\nMy blog (Brazilian Portuguese): https://paulovasconcellos.com.br\\n'"
      ]
     },
     "execution_count": 2,
     "metadata": {},
     "output_type": "execute_result"
    }
   ],
   "source": [
    "'''\n",
    "This dataset was translated to English in order to help you to create analysis about its data. \n",
    "Be free to share and modify this script to achieve new goals.\n",
    "   \n",
    "My e-mail: paulovasconcellos@iestampa.com.br\n",
    "My blog (Brazilian Portuguese): https://paulovasconcellos.com.br\n",
    "'''\n",
    "pass"
   ]
  },
  {
   "cell_type": "code",
   "execution_count": 3,
   "metadata": {
    "collapsed": true
   },
   "outputs": [],
   "source": [
    "import pandas as pd\n",
    "import numpy as np"
   ]
  },
  {
   "cell_type": "code",
   "execution_count": 4,
   "metadata": {
    "collapsed": false
   },
   "outputs": [],
   "source": [
    "occurrences = pd.read_csv('../dataset/ocorrencias.csv', parse_dates=['dia_ocorrencia', 'dia_publicacao', 'dia_extracao'])"
   ]
  },
  {
   "cell_type": "code",
   "execution_count": 5,
   "metadata": {
    "collapsed": false
   },
   "outputs": [
    {
     "data": {
      "text/plain": [
       "codigo_ocorrencia                    int64\n",
       "classificacao                       object\n",
       "tipo                                object\n",
       "localidade                          object\n",
       "uf                                  object\n",
       "pais                                object\n",
       "aerodromo                           object\n",
       "dia_ocorrencia              datetime64[ns]\n",
       "horario                             object\n",
       "sera_investigada                    object\n",
       "comando_investigador                object\n",
       "status_investigacao                 object\n",
       "numero_relatorio                    object\n",
       "relatorio_publicado                float64\n",
       "dia_publicacao              datetime64[ns]\n",
       "quantidade_recomendacoes             int64\n",
       "aeronaves_envolvidas                 int64\n",
       "saida_pista                        float64\n",
       "dia_extracao                datetime64[ns]\n",
       "dtype: object"
      ]
     },
     "execution_count": 5,
     "metadata": {},
     "output_type": "execute_result"
    }
   ],
   "source": [
    "occurrences.dtypes"
   ]
  },
  {
   "cell_type": "code",
   "execution_count": 6,
   "metadata": {
    "collapsed": false
   },
   "outputs": [
    {
     "data": {
      "text/html": [
       "<div>\n",
       "<table border=\"1\" class=\"dataframe\">\n",
       "  <thead>\n",
       "    <tr style=\"text-align: right;\">\n",
       "      <th></th>\n",
       "      <th>codigo_ocorrencia</th>\n",
       "      <th>classificacao</th>\n",
       "      <th>tipo</th>\n",
       "      <th>localidade</th>\n",
       "      <th>uf</th>\n",
       "      <th>pais</th>\n",
       "      <th>aerodromo</th>\n",
       "      <th>dia_ocorrencia</th>\n",
       "      <th>horario</th>\n",
       "      <th>sera_investigada</th>\n",
       "      <th>comando_investigador</th>\n",
       "      <th>status_investigacao</th>\n",
       "      <th>numero_relatorio</th>\n",
       "      <th>relatorio_publicado</th>\n",
       "      <th>dia_publicacao</th>\n",
       "      <th>quantidade_recomendacoes</th>\n",
       "      <th>aeronaves_envolvidas</th>\n",
       "      <th>saida_pista</th>\n",
       "      <th>dia_extracao</th>\n",
       "    </tr>\n",
       "  </thead>\n",
       "  <tbody>\n",
       "    <tr>\n",
       "      <th>0</th>\n",
       "      <td>47965</td>\n",
       "      <td>ACIDENTE</td>\n",
       "      <td>FALHA DO MOTOR EM VOO</td>\n",
       "      <td>ARIQUEMES</td>\n",
       "      <td>RO</td>\n",
       "      <td>BRASIL</td>\n",
       "      <td>SJOG</td>\n",
       "      <td>2013-05-05</td>\n",
       "      <td>11:00:00</td>\n",
       "      <td>***</td>\n",
       "      <td>SERIPA-7</td>\n",
       "      <td>NaN</td>\n",
       "      <td>NaN</td>\n",
       "      <td>NaN</td>\n",
       "      <td>NaT</td>\n",
       "      <td>0</td>\n",
       "      <td>1</td>\n",
       "      <td>NaN</td>\n",
       "      <td>2016-07-30</td>\n",
       "    </tr>\n",
       "    <tr>\n",
       "      <th>1</th>\n",
       "      <td>50313</td>\n",
       "      <td>INCIDENTE GRAVE</td>\n",
       "      <td>POUSO SEM TREM</td>\n",
       "      <td>CACOAL</td>\n",
       "      <td>RO</td>\n",
       "      <td>BRASIL</td>\n",
       "      <td>SSKW</td>\n",
       "      <td>2013-11-25</td>\n",
       "      <td>12:32:00</td>\n",
       "      <td>SIM</td>\n",
       "      <td>SERIPA-7</td>\n",
       "      <td>FINALIZADA</td>\n",
       "      <td>IG-209/CENIPA/2013</td>\n",
       "      <td>1.0</td>\n",
       "      <td>2014-04-07</td>\n",
       "      <td>0</td>\n",
       "      <td>1</td>\n",
       "      <td>NaN</td>\n",
       "      <td>2016-07-30</td>\n",
       "    </tr>\n",
       "    <tr>\n",
       "      <th>2</th>\n",
       "      <td>34078</td>\n",
       "      <td>ACIDENTE</td>\n",
       "      <td>PERDA DE CONTROLE NO SOLO</td>\n",
       "      <td>CEREJEIRAS</td>\n",
       "      <td>RO</td>\n",
       "      <td>BRASIL</td>\n",
       "      <td>****</td>\n",
       "      <td>2008-08-07</td>\n",
       "      <td>15:10:00</td>\n",
       "      <td>SIM</td>\n",
       "      <td>SERIPA-7</td>\n",
       "      <td>FINALIZADA</td>\n",
       "      <td>A - 517/CENIPA/2016</td>\n",
       "      <td>1.0</td>\n",
       "      <td>2016-07-07</td>\n",
       "      <td>0</td>\n",
       "      <td>1</td>\n",
       "      <td>1.0</td>\n",
       "      <td>2016-07-30</td>\n",
       "    </tr>\n",
       "    <tr>\n",
       "      <th>3</th>\n",
       "      <td>44988</td>\n",
       "      <td>ACIDENTE</td>\n",
       "      <td>POUSO LONGO</td>\n",
       "      <td>AMAJARI</td>\n",
       "      <td>RR</td>\n",
       "      <td>BRASIL</td>\n",
       "      <td>****</td>\n",
       "      <td>2011-08-11</td>\n",
       "      <td>17:00:00</td>\n",
       "      <td>SIM</td>\n",
       "      <td>SERIPA-7</td>\n",
       "      <td>FINALIZADA</td>\n",
       "      <td>A-105/CENIPA/2012</td>\n",
       "      <td>1.0</td>\n",
       "      <td>2012-09-20</td>\n",
       "      <td>4</td>\n",
       "      <td>1</td>\n",
       "      <td>NaN</td>\n",
       "      <td>2016-07-30</td>\n",
       "    </tr>\n",
       "    <tr>\n",
       "      <th>4</th>\n",
       "      <td>38855</td>\n",
       "      <td>ACIDENTE</td>\n",
       "      <td>PERDA DE CONTROLE EM VOO</td>\n",
       "      <td>ACEGUÁ</td>\n",
       "      <td>RS</td>\n",
       "      <td>BRASIL</td>\n",
       "      <td>****</td>\n",
       "      <td>2009-12-28</td>\n",
       "      <td>17:30:00</td>\n",
       "      <td>SIM</td>\n",
       "      <td>SERIPA-5</td>\n",
       "      <td>ATIVA</td>\n",
       "      <td>A DEFINIR</td>\n",
       "      <td>NaN</td>\n",
       "      <td>NaT</td>\n",
       "      <td>0</td>\n",
       "      <td>1</td>\n",
       "      <td>NaN</td>\n",
       "      <td>2016-07-30</td>\n",
       "    </tr>\n",
       "  </tbody>\n",
       "</table>\n",
       "</div>"
      ],
      "text/plain": [
       "   codigo_ocorrencia    classificacao                       tipo  localidade  \\\n",
       "0              47965         ACIDENTE      FALHA DO MOTOR EM VOO   ARIQUEMES   \n",
       "1              50313  INCIDENTE GRAVE             POUSO SEM TREM      CACOAL   \n",
       "2              34078         ACIDENTE  PERDA DE CONTROLE NO SOLO  CEREJEIRAS   \n",
       "3              44988         ACIDENTE                POUSO LONGO     AMAJARI   \n",
       "4              38855         ACIDENTE   PERDA DE CONTROLE EM VOO      ACEGUÁ   \n",
       "\n",
       "   uf    pais aerodromo dia_ocorrencia   horario sera_investigada  \\\n",
       "0  RO  BRASIL      SJOG     2013-05-05  11:00:00              ***   \n",
       "1  RO  BRASIL      SSKW     2013-11-25  12:32:00              SIM   \n",
       "2  RO  BRASIL      ****     2008-08-07  15:10:00              SIM   \n",
       "3  RR  BRASIL      ****     2011-08-11  17:00:00              SIM   \n",
       "4  RS  BRASIL      ****     2009-12-28  17:30:00              SIM   \n",
       "\n",
       "  comando_investigador status_investigacao     numero_relatorio  \\\n",
       "0             SERIPA-7                 NaN                  NaN   \n",
       "1             SERIPA-7          FINALIZADA   IG-209/CENIPA/2013   \n",
       "2             SERIPA-7          FINALIZADA  A - 517/CENIPA/2016   \n",
       "3             SERIPA-7          FINALIZADA    A-105/CENIPA/2012   \n",
       "4             SERIPA-5               ATIVA            A DEFINIR   \n",
       "\n",
       "   relatorio_publicado dia_publicacao  quantidade_recomendacoes  \\\n",
       "0                  NaN            NaT                         0   \n",
       "1                  1.0     2014-04-07                         0   \n",
       "2                  1.0     2016-07-07                         0   \n",
       "3                  1.0     2012-09-20                         4   \n",
       "4                  NaN            NaT                         0   \n",
       "\n",
       "   aeronaves_envolvidas  saida_pista dia_extracao  \n",
       "0                     1          NaN   2016-07-30  \n",
       "1                     1          NaN   2016-07-30  \n",
       "2                     1          1.0   2016-07-30  \n",
       "3                     1          NaN   2016-07-30  \n",
       "4                     1          NaN   2016-07-30  "
      ]
     },
     "execution_count": 6,
     "metadata": {},
     "output_type": "execute_result"
    }
   ],
   "source": [
    "occurrences.head(5)"
   ]
  },
  {
   "cell_type": "code",
   "execution_count": 7,
   "metadata": {
    "collapsed": false
   },
   "outputs": [],
   "source": [
    "#renaming columns\n",
    "occurrences.columns = ['occurrence_id','classification','type of occurrence','localization','fu','country','aerodrome',\n",
    "                       'occurrence_day','time','under_investigation','investigating_command','investigation_status',\n",
    "                       'report_number','published_report','publication_day','recommendation_amount','aircrafts_involved',\n",
    "                       'takeoff','extraction_day']"
   ]
  },
  {
   "cell_type": "code",
   "execution_count": 8,
   "metadata": {
    "collapsed": false
   },
   "outputs": [],
   "source": [
    "#translating occurrences classification\n",
    "occurrences['classification'] = occurrences['classification'].map({'ACIDENTE': 'ACCIDENT',\n",
    "                                                                   'INCIDENTE GRAVE': 'SERIOUS INCIDENT'})"
   ]
  },
  {
   "cell_type": "code",
   "execution_count": 9,
   "metadata": {
    "collapsed": false
   },
   "outputs": [],
   "source": [
    "#translating type of occurrences to English\n",
    "occurrences['type of occurrence'] = occurrences['type of occurrence'].map({'FALHA DO MOTOR EM VOO': 'ENGINE FAILURE DURING THE FLIGHT',\n",
    "                                                                           'POUSO SEM TREM': 'LANDING WITHOUT LANDING GEAR',\n",
    "                                                                           'PERDA DE CONTROLE NO SOLO': 'LOSS OF CONTROL ON THE GROUND',\n",
    "                                                                           'POUSO LONGO': 'SLOW LANDING',\n",
    "                                                                           'PERDA DE CONTROLE EM VOO': 'LOSS OF CONTROL IN THE AIR',\n",
    "                                                                           'INDETERMINADA': 'UNKNOWN',\n",
    "                                                                           'COM TREM DE POUSO': 'ABOUT LANDING GEAR',\n",
    "                                                                           'CFIT - COLISÃO EM VOO CONTROLADO COM O TERRENO': 'TERRAIN COLLISION',\n",
    "                                                                           'INCURSÃO EM PISTA': 'TRACK INCURSION',\n",
    "                                                                           'CAUSADO POR FENÔMENO METEOROLÓGICO EM VOO': 'METEOROLOGICAL PHENOMENOM IN THE AIR',\n",
    "                                                                           'POUSO BRUSCO': 'HARD LANDING',\n",
    "                                                                           'OUTROS TIPOS': 'ANOTHER TYPES',\n",
    "                                                                           'COM ROTOR': 'ABOUT ROTOR',\n",
    "                                                                           'FALHA DE SISTEMA / COMPONENTE': 'SYSTEM / COMPONENT FAILURE',\n",
    "                                                                           'COLISÃO EM VOO COM OBSTÁCULO': 'COLLISION AGAINST OBSTACLE DURING THE FLIGHT',\n",
    "                                                                           'COM PÁRA-BRISAS / JANELA / PORTA': 'ABOUT WINDOWS / DOORS / WINDSHIELD',\n",
    "                                                                           'PERDA DE COMPONENTE EM VOO': 'LOSS OF COMPONENT DURING THE FLIGHT',\n",
    "                                                                           'COLISÃO COM OBSTÁCULO NO SOLO': 'COLLISION AGAINST OBSTACLE ON THE GROUND',\n",
    "                                                                           'FOGO EM VOO': 'FIRE DURING THE FLIGHT',\n",
    "                                                                           'POUSO ANTES DA PISTA': 'LANDING BEFORE THE TRACK AREA',\n",
    "                                                                           'COM LANÇAMENTO DE CARGA': 'LOAD LAUNCH',\n",
    "                                                                           'DESCOMPRESSÃO NÃO INTENCIONAL /  EXPLOSIVA': 'EXPLOSIVE / NOT INTENTIONAL DECOMPRESSION',\n",
    "                                                                           'COLISÃO DE AERONAVES EM VOO': 'AIRCRAFTS COLLISION IN THE AIR',\n",
    "                                                                           'DESORIENTAÇÃO ESPACIAL': 'SPATIAL UNAWARENESS',\n",
    "                                                                           'POUSO EM LOCAL NÃO PREVISTO': 'LANDING ON UNPREDICTABLE PLACE',\n",
    "                                                                           'ESTOURO DE PNEU': 'TIRE BURST',\n",
    "                                                                           'PANE SECA': 'FUEL STARVATION',\n",
    "                                                                           'PERDA DE COMPONENTE NO SOLO': 'COMPONENT LOSS ON THE GROUND',\n",
    "                                                                           'COM HÉLICE': 'ABOUT PROPELLER',\n",
    "                                                                           'MANOBRAS A BAIXA ALTURA': 'LOW ALTITUDE MANEUVERS',\n",
    "                                                                           'FOGO NO SOLO': 'FIRE ON THE GROUND',\n",
    "                                                                           'COLISÃO DE VEÍCULO COM AERONAVE': 'VEHICLE COLLISION AGAINST AIRCRAFT',\n",
    "                                                                           'FOD - DANO CAUSADO POR OBJETO ESTRANHO': 'FOD - DAMAGE CAUSED BY UNKNOWN OBJECT',\n",
    "                                                                           'COLISÃO EM VOO COM OBJETO REBOCADO': 'COLLISION DURING THE FLIGHT AGAINST TOWED OBJECT',\n",
    "                                                                           'AERONAVE ATINGIDA POR OBJETO': 'AIRCRAFT HIT BY OBJECT',\n",
    "                                                                           'CAUSADO POR FENÔMENO METEOROLÓGICO NO SOLO': 'METEOROLOGICAL PHENOMENOM ON THE GROUND',\n",
    "                                                                           'COLISÃO COM AERONAVE NO SOLO': 'AIRCRAFTS COLLISION ON THE GROUND',\n",
    "                                                                           'FALHA ESTRUTURAL': 'STRUCTURAL FAILURE',\n",
    "                                                                           'TRÁFEGO AÉREO': 'AIR TRAFFIC',\n",
    "                                                                           'COM COMANDOS DE VOO': 'FLIGHT COMMANDS',\n",
    "                                                                           'VAZAMENTO DE OUTROS FLUÍDOS': 'FLUID LEAKS',\n",
    "                                                                           'FUMAÇA NA CABINE': 'SMOKE IN THE CABIN',\n",
    "                                                                           'SAÍDA DE PISTA': 'LEAVING THE TRACK',\n",
    "                                                                           'COM PESSOAL EM VOO': 'ABOUT PASSENGERS/CREW DURING THE FLIGHT',\n",
    "                                                                           'CORTE INVOLUNTÁRIO DO MOTOR': 'INVOLUNTARY ENGINE CUT OFF',\n",
    "                                                                           'PROBLEMAS FISIOLÓGICOS': 'PHYSIOLOGICAL PROBLEMS',\n",
    "                                                                           'COM LANÇAMENTO DE PESSOAS': 'PEOPLE LAUNCH',\n",
    "                                                                           'COLISÃO COM PÁSSARO': 'COLLISION AGAINST BIRD',\n",
    "                                                                           'FALHA DO MOTOR NO SOLO': 'ENGINE FAILURE IN THE GROUND'})"
   ]
  },
  {
   "cell_type": "code",
   "execution_count": 10,
   "metadata": {
    "collapsed": false,
    "scrolled": false
   },
   "outputs": [],
   "source": [
    "#translating country's name\n",
    "occurrences['country'] = occurrences['country'].map({'BRASIL': 'BRAZIL',\n",
    "                                                     'PARAGUAI': 'PARAGUAY',\n",
    "                                                     'URUGUAI': 'URUGUAY',\n",
    "                                                     'COLÔMBIA': 'COLOMBIA',\n",
    "                                                     'PERU': 'PERU',\n",
    "                                                     'ARGENTINA': 'ARGENTINA',\n",
    "                                                     'INGLATERRA': 'ENGLAND'})"
   ]
  },
  {
   "cell_type": "code",
   "execution_count": 11,
   "metadata": {
    "collapsed": false
   },
   "outputs": [],
   "source": [
    "#converting dates to US date format\n",
    "occurrences['occurrence_day'].apply(lambda x: x.strftime('%m/%d/%Y'))\n",
    "occurrences[occurrences['publication_day'].notnull()]['publication_day'].apply(lambda x: x.strftime('%m/%d/%Y'))\n",
    "occurrences[occurrences['extraction_day'].notnull()]['extraction_day'].apply(lambda x: x.strftime('%m/%d/%Y'))\n",
    "pass"
   ]
  },
  {
   "cell_type": "code",
   "execution_count": 12,
   "metadata": {
    "collapsed": false
   },
   "outputs": [],
   "source": [
    "#under_investigation values translation\n",
    "occurrences['under_investigation'] = occurrences['under_investigation'].map({'***': 'UNKNOWN',\n",
    "                                        'SIM': 'YES',\n",
    "                                        'NÃO': 'NO'})"
   ]
  },
  {
   "cell_type": "code",
   "execution_count": 13,
   "metadata": {
    "collapsed": false
   },
   "outputs": [],
   "source": [
    "#translating investigation status\n",
    "occurrences['investigation_status'] = occurrences['investigation_status'].map({'FINALIZADA': 'FINISHED',\n",
    "                                                                               'ATIVA': 'IN PROGRESS',\n",
    "                                                                               'REABERTA': 'REOPENED'})"
   ]
  },
  {
   "cell_type": "code",
   "execution_count": 14,
   "metadata": {
    "collapsed": false
   },
   "outputs": [],
   "source": [
    "#report numbers which does not have a registry will be translated as Undefined\n",
    "occurrences['report_number'] = occurrences['report_number'].map({'A DEFINIR': 'UNDEFINED'})"
   ]
  },
  {
   "cell_type": "code",
   "execution_count": 17,
   "metadata": {
    "collapsed": false
   },
   "outputs": [],
   "source": [
    "#creating new csv file\n",
    "occurrences.to_csv('../dataset/occurrences.csv')"
   ]
  }
 ],
 "metadata": {
  "anaconda-cloud": {},
  "kernelspec": {
   "display_name": "Python [conda root]",
   "language": "python",
   "name": "conda-root-py"
  },
  "language_info": {
   "codemirror_mode": {
    "name": "ipython",
    "version": 3
   },
   "file_extension": ".py",
   "mimetype": "text/x-python",
   "name": "python",
   "nbconvert_exporter": "python",
   "pygments_lexer": "ipython3",
   "version": "3.5.2"
  }
 },
 "nbformat": 4,
 "nbformat_minor": 1
}
