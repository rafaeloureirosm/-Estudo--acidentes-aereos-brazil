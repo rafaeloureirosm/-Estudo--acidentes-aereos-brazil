{
 "cells": [
  {
   "cell_type": "code",
   "execution_count": 536,
   "metadata": {
    "collapsed": false
   },
   "outputs": [],
   "source": [
    "'''\n",
    "This dataset was translated to English in order to help you to create analysis about its data. \n",
    "Be free to share and modify this script to achieve new goals.\n",
    "   \n",
    "My e-mail: paulovasconcellos@iestampa.com.br\n",
    "My blog (Brazilian Portuguese): https://paulovasconcellos.com.br\n",
    "'''\n",
    "pass"
   ]
  },
  {
   "cell_type": "code",
   "execution_count": 537,
   "metadata": {
    "collapsed": true
   },
   "outputs": [],
   "source": [
    "import pandas as pd"
   ]
  },
  {
   "cell_type": "code",
   "execution_count": 538,
   "metadata": {
    "collapsed": false
   },
   "outputs": [],
   "source": [
    "aircrafts = pd.read_csv('../dataset/aeronaves.csv', parse_dates=['dia_extracao', 'ano_fabricacao'])"
   ]
  },
  {
   "cell_type": "code",
   "execution_count": 539,
   "metadata": {
    "collapsed": false
   },
   "outputs": [
    {
     "data": {
      "text/html": [
       "<div>\n",
       "<table border=\"1\" class=\"dataframe\">\n",
       "  <thead>\n",
       "    <tr style=\"text-align: right;\">\n",
       "      <th></th>\n",
       "      <th>codigo_aeronave</th>\n",
       "      <th>codigo_ocorrencia</th>\n",
       "      <th>matricula</th>\n",
       "      <th>codigo_operador</th>\n",
       "      <th>equipamento</th>\n",
       "      <th>fabricante</th>\n",
       "      <th>modelo</th>\n",
       "      <th>tipo_motor</th>\n",
       "      <th>quantidade_motores</th>\n",
       "      <th>peso_maximo_decolagem</th>\n",
       "      <th>...</th>\n",
       "      <th>pais_registro</th>\n",
       "      <th>categoria_registro</th>\n",
       "      <th>categoria_aviacao</th>\n",
       "      <th>origem_voo</th>\n",
       "      <th>destino_voo</th>\n",
       "      <th>fase_operacao</th>\n",
       "      <th>tipo_operacao</th>\n",
       "      <th>nivel_dano</th>\n",
       "      <th>quantidade_fatalidades</th>\n",
       "      <th>dia_extracao</th>\n",
       "    </tr>\n",
       "  </thead>\n",
       "  <tbody>\n",
       "    <tr>\n",
       "      <th>0</th>\n",
       "      <td>4</td>\n",
       "      <td>45602</td>\n",
       "      <td>PPGXE</td>\n",
       "      <td>241</td>\n",
       "      <td>AVIÃO</td>\n",
       "      <td>NEIVA INDUSTRIA AERONAUTICA</td>\n",
       "      <td>56-C</td>\n",
       "      <td>PISTÃO</td>\n",
       "      <td>1.0</td>\n",
       "      <td>660</td>\n",
       "      <td>...</td>\n",
       "      <td>BRASIL</td>\n",
       "      <td>PRI</td>\n",
       "      <td>INSTRUÇÃO</td>\n",
       "      <td>SDPW</td>\n",
       "      <td>SDPW</td>\n",
       "      <td>INDETERMINADA</td>\n",
       "      <td>INSTRUÇÃO</td>\n",
       "      <td>SUBSTANCIAL</td>\n",
       "      <td>NaN</td>\n",
       "      <td>2016-07-30</td>\n",
       "    </tr>\n",
       "    <tr>\n",
       "      <th>1</th>\n",
       "      <td>40</td>\n",
       "      <td>53551</td>\n",
       "      <td>PPGSZ</td>\n",
       "      <td>160</td>\n",
       "      <td>AVIÃO</td>\n",
       "      <td>NEIVA INDUSTRIA AERONAUTICA</td>\n",
       "      <td>56-C</td>\n",
       "      <td>PISTÃO</td>\n",
       "      <td>1.0</td>\n",
       "      <td>660</td>\n",
       "      <td>...</td>\n",
       "      <td>BRASIL</td>\n",
       "      <td>PRI</td>\n",
       "      <td>INSTRUÇÃO</td>\n",
       "      <td>SBBP</td>\n",
       "      <td>SBBP</td>\n",
       "      <td>DECOLAGEM</td>\n",
       "      <td>INSTRUÇÃO</td>\n",
       "      <td>LEVE</td>\n",
       "      <td>NaN</td>\n",
       "      <td>2016-07-30</td>\n",
       "    </tr>\n",
       "    <tr>\n",
       "      <th>2</th>\n",
       "      <td>118</td>\n",
       "      <td>43721</td>\n",
       "      <td>PTCMT</td>\n",
       "      <td>1232</td>\n",
       "      <td>AVIÃO</td>\n",
       "      <td>BEECH AIRCRAFT</td>\n",
       "      <td>95-B55</td>\n",
       "      <td>PISTÃO</td>\n",
       "      <td>2.0</td>\n",
       "      <td>2310</td>\n",
       "      <td>...</td>\n",
       "      <td>BRASIL</td>\n",
       "      <td>TPX</td>\n",
       "      <td>TÁXI AÉREO</td>\n",
       "      <td>****</td>\n",
       "      <td>****</td>\n",
       "      <td>CORRIDA APÓS POUSO</td>\n",
       "      <td>TÁXI AÉREO</td>\n",
       "      <td>SUBSTANCIAL</td>\n",
       "      <td>NaN</td>\n",
       "      <td>2016-07-30</td>\n",
       "    </tr>\n",
       "    <tr>\n",
       "      <th>3</th>\n",
       "      <td>130</td>\n",
       "      <td>35556</td>\n",
       "      <td>PTEQI</td>\n",
       "      <td>3992</td>\n",
       "      <td>AVIÃO</td>\n",
       "      <td>NEIVA INDUSTRIA AERONAUTICA</td>\n",
       "      <td>EMB-721C</td>\n",
       "      <td>PISTÃO</td>\n",
       "      <td>1.0</td>\n",
       "      <td>1633</td>\n",
       "      <td>...</td>\n",
       "      <td>BRASIL</td>\n",
       "      <td>TPP</td>\n",
       "      <td>PARTICULAR</td>\n",
       "      <td>SNDU</td>\n",
       "      <td>SBSL</td>\n",
       "      <td>CORRIDA APÓS POUSO</td>\n",
       "      <td>PRIVADA</td>\n",
       "      <td>LEVE</td>\n",
       "      <td>NaN</td>\n",
       "      <td>2016-07-30</td>\n",
       "    </tr>\n",
       "    <tr>\n",
       "      <th>4</th>\n",
       "      <td>191</td>\n",
       "      <td>32579</td>\n",
       "      <td>PPVMM</td>\n",
       "      <td>4365</td>\n",
       "      <td>AVIÃO</td>\n",
       "      <td>BOEING COMPANY</td>\n",
       "      <td>737-241</td>\n",
       "      <td>JATO</td>\n",
       "      <td>2.0</td>\n",
       "      <td>52389</td>\n",
       "      <td>...</td>\n",
       "      <td>BRASIL</td>\n",
       "      <td>TPR</td>\n",
       "      <td>REGULAR</td>\n",
       "      <td>****</td>\n",
       "      <td>****</td>\n",
       "      <td>SUBIDA</td>\n",
       "      <td>REGULAR</td>\n",
       "      <td>NENHUM</td>\n",
       "      <td>NaN</td>\n",
       "      <td>2016-07-30</td>\n",
       "    </tr>\n",
       "  </tbody>\n",
       "</table>\n",
       "<p>5 rows × 22 columns</p>\n",
       "</div>"
      ],
      "text/plain": [
       "   codigo_aeronave  codigo_ocorrencia matricula  codigo_operador equipamento  \\\n",
       "0                4              45602     PPGXE              241       AVIÃO   \n",
       "1               40              53551     PPGSZ              160       AVIÃO   \n",
       "2              118              43721     PTCMT             1232       AVIÃO   \n",
       "3              130              35556     PTEQI             3992       AVIÃO   \n",
       "4              191              32579     PPVMM             4365       AVIÃO   \n",
       "\n",
       "                    fabricante    modelo tipo_motor  quantidade_motores  \\\n",
       "0  NEIVA INDUSTRIA AERONAUTICA      56-C     PISTÃO                 1.0   \n",
       "1  NEIVA INDUSTRIA AERONAUTICA      56-C     PISTÃO                 1.0   \n",
       "2               BEECH AIRCRAFT    95-B55     PISTÃO                 2.0   \n",
       "3  NEIVA INDUSTRIA AERONAUTICA  EMB-721C     PISTÃO                 1.0   \n",
       "4               BOEING COMPANY   737-241       JATO                 2.0   \n",
       "\n",
       "   peso_maximo_decolagem     ...       pais_registro categoria_registro  \\\n",
       "0                    660     ...              BRASIL                PRI   \n",
       "1                    660     ...              BRASIL                PRI   \n",
       "2                   2310     ...              BRASIL                TPX   \n",
       "3                   1633     ...              BRASIL                TPP   \n",
       "4                  52389     ...              BRASIL                TPR   \n",
       "\n",
       "  categoria_aviacao origem_voo destino_voo       fase_operacao tipo_operacao  \\\n",
       "0         INSTRUÇÃO       SDPW        SDPW       INDETERMINADA     INSTRUÇÃO   \n",
       "1         INSTRUÇÃO       SBBP        SBBP           DECOLAGEM     INSTRUÇÃO   \n",
       "2        TÁXI AÉREO       ****        ****  CORRIDA APÓS POUSO    TÁXI AÉREO   \n",
       "3        PARTICULAR       SNDU        SBSL  CORRIDA APÓS POUSO       PRIVADA   \n",
       "4           REGULAR       ****        ****              SUBIDA       REGULAR   \n",
       "\n",
       "    nivel_dano quantidade_fatalidades dia_extracao  \n",
       "0  SUBSTANCIAL                    NaN   2016-07-30  \n",
       "1         LEVE                    NaN   2016-07-30  \n",
       "2  SUBSTANCIAL                    NaN   2016-07-30  \n",
       "3         LEVE                    NaN   2016-07-30  \n",
       "4       NENHUM                    NaN   2016-07-30  \n",
       "\n",
       "[5 rows x 22 columns]"
      ]
     },
     "execution_count": 539,
     "metadata": {},
     "output_type": "execute_result"
    }
   ],
   "source": [
    "aircrafts.head()"
   ]
  },
  {
   "cell_type": "code",
   "execution_count": 540,
   "metadata": {
    "collapsed": false
   },
   "outputs": [],
   "source": [
    "#translating column names\n",
    "aircrafts.columns = ['aircraft_id', 'occurrence_id', 'registration', 'operator_id', 'equipment', 'manufacturer',\n",
    "                    'model', 'engine_type', 'engines_amount', 'takeoff_max_weight (Lbs)', 'seatings_amount', 'year_manufacture',\n",
    "                    'registration_country', 'registration_category', 'registration_aviation', 'origin_flight', \n",
    "                    'destination_flight', 'operation_phase', 'type_operation', 'damage_level', 'fatalities_amount',\n",
    "                    'extraction_day']"
   ]
  },
  {
   "cell_type": "code",
   "execution_count": 541,
   "metadata": {
    "collapsed": false
   },
   "outputs": [],
   "source": [
    "#equipment translation\n",
    "aircrafts['equipment'] = aircrafts['equipment'].map({'AVIÃO': 'AIRPLANE',\n",
    "                                                   'HELICÓPTERO': 'HELICOPTER',\n",
    "                                                   'PLANADOR': 'GLIDER',\n",
    "                                                   'ULTRALEVE': 'ULTRALIGHT',\n",
    "                                                   'ANFÍBIO': 'AMPHIBIOUS',\n",
    "                                                   '***': 'UNKNOWN',\n",
    "                                                   'DIRIGÍVEL': 'AIRSHIP'})"
   ]
  },
  {
   "cell_type": "code",
   "execution_count": 542,
   "metadata": {
    "collapsed": false,
    "scrolled": false
   },
   "outputs": [],
   "source": [
    "#engine type translation\n",
    "aircrafts['engine_type'] = aircrafts['engine_type'].map({'PISTÃO': 'PISTON',\n",
    "                                                       'JATO': 'JET',\n",
    "                                                       'TURBOEIXO': 'TURBOSHAFT',\n",
    "                                                       'TURBOÉLICE': 'TURBOPROP',\n",
    "                                                       'SEM TRAÇÃO': 'WITHOUT TRACTION',\n",
    "                                                       '***': 'UNKNOWN'})"
   ]
  },
  {
   "cell_type": "code",
   "execution_count": 543,
   "metadata": {
    "collapsed": false
   },
   "outputs": [],
   "source": [
    "#converting kg to lbs\n",
    "aircrafts['takeoff_max_weight (Lbs)'] = (aircrafts['takeoff_max_weight (Lbs)'] * 2.20462).astype(int)"
   ]
  },
  {
   "cell_type": "code",
   "execution_count": 544,
   "metadata": {
    "collapsed": false
   },
   "outputs": [],
   "source": [
    "#country's name translation\n",
    "aircrafts['registration_country'] = aircrafts['registration_country'].map({'BRASIL': 'BRAZIL',\n",
    "                                      'ESTADOS UNIDOS': 'USA',\n",
    "                                      'NÃO IDENTIFICADO': 'UNKNOWN',\n",
    "                                      'FRANÇA': 'FRENCH',\n",
    "                                      'ESPANHA': 'SPAIN',\n",
    "                                      'ÁFRICA DO SUL': 'SOUTH AFRICA',\n",
    "                                      'URUGUAI': 'URUGUAY',\n",
    "                                      'RÚSSIA': 'RUSSIA',\n",
    "                                      'POLÔNIA': 'POLAND',\n",
    "                                      'ARÁBIA SAUDITA': 'SAUDI ARABIA',\n",
    "                                      'ALEMANHA': 'GERMAN'\n",
    "                                      })"
   ]
  },
  {
   "cell_type": "code",
   "execution_count": 545,
   "metadata": {
    "collapsed": false
   },
   "outputs": [],
   "source": [
    "aircrafts['registration_aviation'] = aircrafts['registration_aviation'].map({'INSTRUÇÃO': 'INSTRUCTION',\n",
    "                                                                           'TÁXI AÉREO': 'AEROTAXI',\n",
    "                                                                           'PARTICULAR': 'PRIVATE',\n",
    "                                                                           'REGULAR': 'REGULAR',\n",
    "                                                                           'ADMINISTRAÇÃO DIRETA': 'DIRECT ADMINISTRATION',\n",
    "                                                                           'MÚLTIPLA': 'MULTIPLE',\n",
    "                                                                           'AGRÍCOLA': 'AGRICULTURAL',\n",
    "                                                                           'EXPERIMENTAL': 'EXPERIMENTAL',\n",
    "                                                                           'ESPECIALIZADA': 'SPECIALIZED',\n",
    "                                                                           'ADMINISTRAÇÃO INDIRETA': 'INDIRECT ADMINISTRATION',\n",
    "                                                                           'NÃO REGULAR': 'NOT REGULAR',\n",
    "                                                                           '***': 'UNKNOWN',\n",
    "                                                                           'HISTÓRICA': 'HISTORIC'\n",
    "                                                                          })"
   ]
  },
  {
   "cell_type": "code",
   "execution_count": 546,
   "metadata": {
    "collapsed": false
   },
   "outputs": [],
   "source": [
    "#operation phase translation\n",
    "aircrafts['operation_phase'] = aircrafts['operation_phase'].map({'INDETERMINADA': 'UNKNOWN',\n",
    "                                                               'DECOLAGEM': 'TAKEOFF',\n",
    "                                                               'CORRIDA APÓS POUSO': 'RUN AFTER LANDING',\n",
    "                                                               'SUBIDA': 'ASCENSION',\n",
    "                                                               'MANOBRA': 'MANEUVER',\n",
    "                                                               'PAIRADO': 'HOVERING',\n",
    "                                                               'APROXIMAÇÃO FINAL': 'FINAL APPROXIMATION',\n",
    "                                                               'ARREMETIDA NO SOLO': 'RUSH ON THE GROUND',\n",
    "                                                               'POUSO': 'LANDING',\n",
    "                                                               'DESCIDA': 'DESCEND',\n",
    "                                                               'CRUZEIRO': 'CRUISE',\n",
    "                                                               'CIRCUITO DE TRÁFEGO': 'TRAFFIC CIRCUIT',\n",
    "                                                               'TÁXI': 'TAXI',\n",
    "                                                               'ARREMETIDA NO AR': 'RUSH IN THE AIR',\n",
    "                                                               'ESPECIALIZADA': 'SPECIALIZED',\n",
    "                                                               'OUTRA FASE': 'ANOTHER PHASE',\n",
    "                                                               'NAVEGAÇÃO A BAIXA ALTURA': 'LOW ALTITUDE NAVIGATION',\n",
    "                                                               'RETA FINAL': 'FINAL STRETCH',\n",
    "                                                               'PARTIDA DO MOTOR': 'ENGINE START',\n",
    "                                                               'CHEQUE DE MOTOR OU ROTOR': 'ENGINE OR ROTOR CHECKING',\n",
    "                                                               'DECOLAGEM VERTICAL': 'VERTICAL TAKEOFF',\n",
    "                                                               'OPERAÇÃO DE SOLO': 'GROUND OPERATION',\n",
    "                                                               'ESTACIONAMENTO': 'PARKING'\n",
    "                                                              })"
   ]
  },
  {
   "cell_type": "code",
   "execution_count": 547,
   "metadata": {
    "collapsed": false
   },
   "outputs": [],
   "source": [
    "#type operation translation\n",
    "aircrafts['type_operation'] = aircrafts['type_operation'].map({'INSTRUÇÃO': 'INSTRUCTION',\n",
    "                                                             'TÁXI AÉREO': 'AEROTAXI',\n",
    "                                                             'PRIVADA': 'PRIVATE',\n",
    "                                                             'REGULAR': 'REGULAR',\n",
    "                                                             'POLICIAL': 'POLICIAL',\n",
    "                                                             'AGRÍCOLA': 'AGRICULTURAL',\n",
    "                                                             'EXPERIMENTAL': 'EXPERIMENTAL',\n",
    "                                                             'ESPECIALIZADA': 'SPECIALIZED',\n",
    "                                                             'NÃO REGULAR': 'NOT REGULAR',\n",
    "                                                             '***': 'UNKNOWN'\n",
    "                                                            })"
   ]
  },
  {
   "cell_type": "code",
   "execution_count": 548,
   "metadata": {
    "collapsed": false
   },
   "outputs": [],
   "source": [
    "aircrafts['damage_level'] = aircrafts['damage_level'].map({'SUBSTANCIAL': 'SUBSTANTIAL',\n",
    "                                                         'LEVE': 'LIGHT',\n",
    "                                                         'NENHUM': 'NONE',\n",
    "                                                         '***': 'UNKNOWN',\n",
    "                                                         'DESTRUÍDA': 'DESTROYED'\n",
    "                                                        })"
   ]
  },
  {
   "cell_type": "code",
   "execution_count": 549,
   "metadata": {
    "collapsed": false
   },
   "outputs": [],
   "source": [
    "#creating a new csv file\n",
    "aircrafts.to_csv('../dataset/aircrafts.csv')"
   ]
  }
 ],
 "metadata": {
  "anaconda-cloud": {},
  "kernelspec": {
   "display_name": "Python [conda root]",
   "language": "python",
   "name": "conda-root-py"
  },
  "language_info": {
   "codemirror_mode": {
    "name": "ipython",
    "version": 3
   },
   "file_extension": ".py",
   "mimetype": "text/x-python",
   "name": "python",
   "nbconvert_exporter": "python",
   "pygments_lexer": "ipython3",
   "version": "3.5.2"
  }
 },
 "nbformat": 4,
 "nbformat_minor": 1
}
